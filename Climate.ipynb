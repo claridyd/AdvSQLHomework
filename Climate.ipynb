{
 "cells": [
  {
   "cell_type": "code",
   "execution_count": 2,
   "metadata": {},
   "outputs": [],
   "source": [
    "%matplotlib inline\n",
    "from matplotlib import style\n",
    "style.use('fivethirtyeight')\n",
    "import matplotlib.pyplot as plt"
   ]
  },
  {
   "cell_type": "code",
   "execution_count": 3,
   "metadata": {},
   "outputs": [],
   "source": [
    "import numpy as np\n",
    "import pandas as pd"
   ]
  },
  {
   "cell_type": "code",
   "execution_count": 4,
   "metadata": {},
   "outputs": [],
   "source": [
    "import datetime as dt"
   ]
  },
  {
   "cell_type": "code",
   "execution_count": 5,
   "metadata": {},
   "outputs": [],
   "source": [
    "# Reflect Tables into SQLAlchemy ORM\n",
    "#Python SQL toolkit and ORM\n",
    "import sqlalchemy\n",
    "from sqlalchemy.ext.automap import automap_base\n",
    "from sqlalchemy.orm import Session\n",
    "from sqlalchemy import create_engine, func"
   ]
  },
  {
   "cell_type": "code",
   "execution_count": 6,
   "metadata": {},
   "outputs": [],
   "source": [
    "engine = create_engine(\"sqlite:///Resources/hawaii.sqlite\")"
   ]
  },
  {
   "cell_type": "code",
   "execution_count": 7,
   "metadata": {},
   "outputs": [],
   "source": [
    "# Reflect an existing databse into a new model\n",
    "Base = automap_base()\n",
    "# Reflect the tables\n",
    "Base.prepare(engine, reflect=True)"
   ]
  },
  {
   "cell_type": "code",
   "execution_count": 8,
   "metadata": {},
   "outputs": [
    {
     "data": {
      "text/plain": [
       "['measurement', 'station']"
      ]
     },
     "execution_count": 8,
     "metadata": {},
     "output_type": "execute_result"
    }
   ],
   "source": [
    "# We can view all of the classes that automap found\n",
    "Base.classes.keys()"
   ]
  },
  {
   "cell_type": "code",
   "execution_count": 9,
   "metadata": {},
   "outputs": [],
   "source": [
    "# Save references to each table\n",
    "Measurement = Base.classes.measurement\n",
    "Station = Base.classes.station"
   ]
  },
  {
   "cell_type": "code",
   "execution_count": 10,
   "metadata": {},
   "outputs": [],
   "source": [
    "# Create our session from Python to the database in order to query the database\n",
    "session = Session(engine)"
   ]
  },
  {
   "cell_type": "markdown",
   "metadata": {},
   "source": [
    "Exploratory Climate Analysis"
   ]
  },
  {
   "cell_type": "code",
   "execution_count": 23,
   "metadata": {},
   "outputs": [
    {
     "data": {
      "text/plain": [
       "{'_sa_instance_state': <sqlalchemy.orm.state.InstanceState at 0x236ea432588>,\n",
       " 'prcp': 0.08,\n",
       " 'date': '2010-01-01',\n",
       " 'id': 1,\n",
       " 'tobs': 65.0,\n",
       " 'station': 'USC00519397'}"
      ]
     },
     "execution_count": 23,
     "metadata": {},
     "output_type": "execute_result"
    }
   ],
   "source": [
    "# Display the Measurement row's columns and data in dictionary format\n",
    "first_row = session.query(Measurement).first()\n",
    "first_row.__dict__"
   ]
  },
  {
   "cell_type": "code",
   "execution_count": 27,
   "metadata": {},
   "outputs": [],
   "source": [
    "#Display the Measurement \n",
    "#all_rows = session.query(Measurement).all()\n",
    "#for record in all_rows:\n",
    "#    print(record.__dict__)"
   ]
  },
  {
   "cell_type": "code",
   "execution_count": 28,
   "metadata": {},
   "outputs": [
    {
     "data": {
      "text/plain": [
       "{'_sa_instance_state': <sqlalchemy.orm.state.InstanceState at 0x236ea440160>,\n",
       " 'station': 'USC00519397',\n",
       " 'longitude': -157.8168,\n",
       " 'name': 'WAIKIKI 717.2, HI US',\n",
       " 'id': 1,\n",
       " 'elevation': 3.0,\n",
       " 'latitude': 21.2716}"
      ]
     },
     "execution_count": 28,
     "metadata": {},
     "output_type": "execute_result"
    }
   ],
   "source": [
    "# Display the Station row's columns and data in dictionary format\n",
    "first_station_row = session.query(Station).first()\n",
    "first_station_row.__dict__"
   ]
  },
  {
   "cell_type": "code",
   "execution_count": 29,
   "metadata": {},
   "outputs": [
    {
     "name": "stdout",
     "output_type": "stream",
     "text": [
      "('2017-08-23',)\n"
     ]
    }
   ],
   "source": [
    "# Get the latest date from Measurement\n",
    "latest_date = session.query(Measurement.date).order_by(Measurement.date.desc()).first()\n",
    "print(latest_date)"
   ]
  },
  {
   "cell_type": "code",
   "execution_count": 30,
   "metadata": {},
   "outputs": [
    {
     "name": "stdout",
     "output_type": "stream",
     "text": [
      "2016-08-23\n"
     ]
    }
   ],
   "source": [
    "#Get the date 12 months ago from latest date\n",
    "year_ago = dt.date(2017, 8, 23) - dt.timedelta(days=365)\n",
    "print(year_ago)"
   ]
  },
  {
   "cell_type": "code",
   "execution_count": 32,
   "metadata": {},
   "outputs": [],
   "source": [
    "# Design a query to retrieve the last 12 months of precipatation data and plot results\n",
    "#for row in session.query(Measurement.date, Measurement.prcp).all():\n",
    "    #print(row)\n",
    "prcp_year = session.query(Measurement.date, Measurement.prcp).filter(Measurement.date > year_ago).\\\n",
    "    order_by(Measurement.date).all()\n",
    "\n",
    "#for year in prcp_year:\n",
    "#    print(\"Date: {0}, Precip: {1}\".format(year.date, year.prcp))\n"
   ]
  },
  {
   "cell_type": "code",
   "execution_count": 56,
   "metadata": {},
   "outputs": [
    {
     "data": {
      "text/html": [
       "<div>\n",
       "<style scoped>\n",
       "    .dataframe tbody tr th:only-of-type {\n",
       "        vertical-align: middle;\n",
       "    }\n",
       "\n",
       "    .dataframe tbody tr th {\n",
       "        vertical-align: top;\n",
       "    }\n",
       "\n",
       "    .dataframe thead th {\n",
       "        text-align: right;\n",
       "    }\n",
       "</style>\n",
       "<table border=\"1\" class=\"dataframe\">\n",
       "  <thead>\n",
       "    <tr style=\"text-align: right;\">\n",
       "      <th></th>\n",
       "      <th>Precip</th>\n",
       "    </tr>\n",
       "    <tr>\n",
       "      <th>Date</th>\n",
       "      <th></th>\n",
       "    </tr>\n",
       "  </thead>\n",
       "  <tbody>\n",
       "    <tr>\n",
       "      <th>2016-08-24</th>\n",
       "      <td>0.08</td>\n",
       "    </tr>\n",
       "    <tr>\n",
       "      <th>2016-08-24</th>\n",
       "      <td>2.15</td>\n",
       "    </tr>\n",
       "    <tr>\n",
       "      <th>2016-08-24</th>\n",
       "      <td>2.28</td>\n",
       "    </tr>\n",
       "    <tr>\n",
       "      <th>2016-08-24</th>\n",
       "      <td>NaN</td>\n",
       "    </tr>\n",
       "    <tr>\n",
       "      <th>2016-08-24</th>\n",
       "      <td>1.22</td>\n",
       "    </tr>\n",
       "    <tr>\n",
       "      <th>2016-08-24</th>\n",
       "      <td>2.15</td>\n",
       "    </tr>\n",
       "    <tr>\n",
       "      <th>2016-08-24</th>\n",
       "      <td>1.45</td>\n",
       "    </tr>\n",
       "    <tr>\n",
       "      <th>2016-08-25</th>\n",
       "      <td>0.08</td>\n",
       "    </tr>\n",
       "    <tr>\n",
       "      <th>2016-08-25</th>\n",
       "      <td>0.08</td>\n",
       "    </tr>\n",
       "    <tr>\n",
       "      <th>2016-08-25</th>\n",
       "      <td>0.00</td>\n",
       "    </tr>\n",
       "    <tr>\n",
       "      <th>2016-08-25</th>\n",
       "      <td>0.00</td>\n",
       "    </tr>\n",
       "    <tr>\n",
       "      <th>2016-08-25</th>\n",
       "      <td>0.21</td>\n",
       "    </tr>\n",
       "    <tr>\n",
       "      <th>2016-08-25</th>\n",
       "      <td>0.06</td>\n",
       "    </tr>\n",
       "    <tr>\n",
       "      <th>2016-08-25</th>\n",
       "      <td>0.11</td>\n",
       "    </tr>\n",
       "    <tr>\n",
       "      <th>2016-08-26</th>\n",
       "      <td>0.00</td>\n",
       "    </tr>\n",
       "    <tr>\n",
       "      <th>2016-08-26</th>\n",
       "      <td>0.03</td>\n",
       "    </tr>\n",
       "    <tr>\n",
       "      <th>2016-08-26</th>\n",
       "      <td>0.02</td>\n",
       "    </tr>\n",
       "    <tr>\n",
       "      <th>2016-08-26</th>\n",
       "      <td>0.04</td>\n",
       "    </tr>\n",
       "    <tr>\n",
       "      <th>2016-08-26</th>\n",
       "      <td>0.00</td>\n",
       "    </tr>\n",
       "    <tr>\n",
       "      <th>2016-08-26</th>\n",
       "      <td>0.01</td>\n",
       "    </tr>\n",
       "  </tbody>\n",
       "</table>\n",
       "</div>"
      ],
      "text/plain": [
       "            Precip\n",
       "Date              \n",
       "2016-08-24    0.08\n",
       "2016-08-24    2.15\n",
       "2016-08-24    2.28\n",
       "2016-08-24     NaN\n",
       "2016-08-24    1.22\n",
       "2016-08-24    2.15\n",
       "2016-08-24    1.45\n",
       "2016-08-25    0.08\n",
       "2016-08-25    0.08\n",
       "2016-08-25    0.00\n",
       "2016-08-25    0.00\n",
       "2016-08-25    0.21\n",
       "2016-08-25    0.06\n",
       "2016-08-25    0.11\n",
       "2016-08-26    0.00\n",
       "2016-08-26    0.03\n",
       "2016-08-26    0.02\n",
       "2016-08-26    0.04\n",
       "2016-08-26    0.00\n",
       "2016-08-26    0.01"
      ]
     },
     "execution_count": 56,
     "metadata": {},
     "output_type": "execute_result"
    }
   ],
   "source": [
    "# Load query results into DataFrame and set index to the date\n",
    "m_df = pd.DataFrame(prcp_year, columns=['Date', 'Precip'])\n",
    "m_df.set_index('Date', inplace=True)\n",
    "m_df.head(20)"
   ]
  },
  {
   "cell_type": "code",
   "execution_count": 65,
   "metadata": {},
   "outputs": [
    {
     "data": {
      "image/png": "[encoded data removed]",
      "text/plain": [
       "<Figure size 720x360 with 1 Axes>"
      ]
     },
     "metadata": {
      "needs_background": "light"
     },
     "output_type": "display_data"
    }
   ],
   "source": [
    "# Plot the dataframe as bar chart\n",
    "#m_df.iloc[:,:].plot.bar(figsize=(10,5), title = \"Precipitation\")\n",
    "m_df.plot.bar(figsize=(10,5))\n",
    "plt.show()"
   ]
  },
  {
   "cell_type": "code",
   "execution_count": 61,
   "metadata": {},
   "outputs": [
    {
     "data": {
      "text/html": [
       "<div>\n",
       "<style scoped>\n",
       "    .dataframe tbody tr th:only-of-type {\n",
       "        vertical-align: middle;\n",
       "    }\n",
       "\n",
       "    .dataframe tbody tr th {\n",
       "        vertical-align: top;\n",
       "    }\n",
       "\n",
       "    .dataframe thead th {\n",
       "        text-align: right;\n",
       "    }\n",
       "</style>\n",
       "<table border=\"1\" class=\"dataframe\">\n",
       "  <thead>\n",
       "    <tr style=\"text-align: right;\">\n",
       "      <th></th>\n",
       "      <th>Precip</th>\n",
       "    </tr>\n",
       "  </thead>\n",
       "  <tbody>\n",
       "    <tr>\n",
       "      <th>count</th>\n",
       "      <td>18103.000000</td>\n",
       "    </tr>\n",
       "    <tr>\n",
       "      <th>mean</th>\n",
       "      <td>0.160644</td>\n",
       "    </tr>\n",
       "    <tr>\n",
       "      <th>std</th>\n",
       "      <td>0.468746</td>\n",
       "    </tr>\n",
       "    <tr>\n",
       "      <th>min</th>\n",
       "      <td>0.000000</td>\n",
       "    </tr>\n",
       "    <tr>\n",
       "      <th>25%</th>\n",
       "      <td>0.000000</td>\n",
       "    </tr>\n",
       "    <tr>\n",
       "      <th>50%</th>\n",
       "      <td>0.010000</td>\n",
       "    </tr>\n",
       "    <tr>\n",
       "      <th>75%</th>\n",
       "      <td>0.110000</td>\n",
       "    </tr>\n",
       "    <tr>\n",
       "      <th>max</th>\n",
       "      <td>11.530000</td>\n",
       "    </tr>\n",
       "  </tbody>\n",
       "</table>\n",
       "</div>"
      ],
      "text/plain": [
       "             Precip\n",
       "count  18103.000000\n",
       "mean       0.160644\n",
       "std        0.468746\n",
       "min        0.000000\n",
       "25%        0.000000\n",
       "50%        0.010000\n",
       "75%        0.110000\n",
       "max       11.530000"
      ]
     },
     "execution_count": 61,
     "metadata": {},
     "output_type": "execute_result"
    }
   ],
   "source": [
    "# Use Pandas to calculate the summary statistics for the precipitation data for 2010 thru 2017\n",
    "all_prcp = session.query(Measurement.date, Measurement.prcp).\\\n",
    "    order_by(Measurement.date).all()\n",
    "# Create DataFrame\n",
    "all_prcp_df = pd.DataFrame(all_prcp, columns=['Date', 'Precip'])\n",
    "#all_prcp_df.set_index('Date', inplace=True)\n",
    "\n",
    "#all_prcp_df.head(20)\n",
    "# Display the summary statistics for preciptation data\n",
    "all_prcp_df.describe()"
   ]
  },
  {
   "cell_type": "code",
   "execution_count": 66,
   "metadata": {},
   "outputs": [
    {
     "name": "stdout",
     "output_type": "stream",
     "text": [
      "{'_sa_instance_state': <sqlalchemy.orm.state.InstanceState object at 0x00000236EA440160>, 'station': 'USC00519397', 'longitude': -157.8168, 'name': 'WAIKIKI 717.2, HI US', 'id': 1, 'elevation': 3.0, 'latitude': 21.2716}\n",
      "{'_sa_instance_state': <sqlalchemy.orm.state.InstanceState object at 0x000002368039D5C0>, 'station': 'USC00513117', 'longitude': -157.8015, 'name': 'KANEOHE 838.1, HI US', 'id': 2, 'elevation': 14.6, 'latitude': 21.4234}\n",
      "{'_sa_instance_state': <sqlalchemy.orm.state.InstanceState object at 0x000002368039D198>, 'station': 'USC00514830', 'longitude': -157.8374, 'name': 'KUALOA RANCH HEADQUARTERS 886.9, HI US', 'id': 3, 'elevation': 7.0, 'latitude': 21.5213}\n",
      "{'_sa_instance_state': <sqlalchemy.orm.state.InstanceState object at 0x000002368039D908>, 'station': 'USC00517948', 'longitude': -157.9751, 'name': 'PEARL CITY, HI US', 'id': 4, 'elevation': 11.9, 'latitude': 21.3934}\n",
      "{'_sa_instance_state': <sqlalchemy.orm.state.InstanceState object at 0x000002368039DF98>, 'station': 'USC00518838', 'longitude': -158.0111, 'name': 'UPPER WAHIAWA 874.3, HI US', 'id': 5, 'elevation': 306.6, 'latitude': 21.4992}\n",
      "{'_sa_instance_state': <sqlalchemy.orm.state.InstanceState object at 0x00000236803A6CC0>, 'station': 'USC00519523', 'longitude': -157.71139, 'name': 'WAIMANALO EXPERIMENTAL FARM, HI US', 'id': 6, 'elevation': 19.5, 'latitude': 21.33556}\n",
      "{'_sa_instance_state': <sqlalchemy.orm.state.InstanceState object at 0x00000236803A6978>, 'station': 'USC00519281', 'longitude': -157.84888999999998, 'name': 'WAIHEE 837.5, HI US', 'id': 7, 'elevation': 32.9, 'latitude': 21.45167}\n",
      "{'_sa_instance_state': <sqlalchemy.orm.state.InstanceState object at 0x00000236803A66A0>, 'station': 'USC00511918', 'longitude': -157.9992, 'name': 'HONOLULU OBSERVATORY 702.2, HI US', 'id': 8, 'elevation': 0.9, 'latitude': 21.3152}\n",
      "{'_sa_instance_state': <sqlalchemy.orm.state.InstanceState object at 0x00000236803A6080>, 'station': 'USC00516128', 'longitude': -157.8025, 'name': 'MANOA LYON ARBO 785.2, HI US', 'id': 9, 'elevation': 152.4, 'latitude': 21.3331}\n"
     ]
    }
   ],
   "source": [
    "# Design a query to show total number of stations\n",
    "#Display the Stations\n",
    "all_stations = session.query(Station).all()\n",
    "for record in all_stations:\n",
    "    print(record.__dict__)"
   ]
  },
  {
   "cell_type": "code",
   "execution_count": 67,
   "metadata": {},
   "outputs": [
    {
     "name": "stdout",
     "output_type": "stream",
     "text": [
      "(9,)\n"
     ]
    }
   ],
   "source": [
    "# Station Analysis\n",
    "# Query to count the total number of stations\n",
    "\n",
    "stat_count = session.query(func.count(Station.name)).all()\n",
    "for record in stat_count:\n",
    "    print(record)"
   ]
  },
  {
   "cell_type": "code",
   "execution_count": 78,
   "metadata": {},
   "outputs": [
    {
     "name": "stdout",
     "output_type": "stream",
     "text": [
      "('USC00519281', 2772)\n",
      "('USC00519397', 2724)\n",
      "('USC00513117', 2709)\n",
      "('USC00519523', 2669)\n",
      "('USC00516128', 2612)\n",
      "('USC00514830', 2202)\n",
      "('USC00511918', 1979)\n",
      "('USC00517948', 1372)\n",
      "('USC00518838', 511)\n"
     ]
    }
   ],
   "source": [
    "#List stations and observaton counts in descending order\n",
    "\n",
    "active_stat = session.query(Measurement.station, func.count(Measurement.station)).\\\n",
    "    group_by(Measurement.station).order_by(func.count(Measurement.station).desc()).all();\n",
    "for number in active_stat:\n",
    "    print(number)\n"
   ]
  },
  {
   "cell_type": "code",
   "execution_count": 86,
   "metadata": {},
   "outputs": [
    {
     "data": {
      "text/plain": [
       "[(54.0, 85.0, 71.66378066378067)]"
      ]
     },
     "execution_count": 86,
     "metadata": {},
     "output_type": "execute_result"
    }
   ],
   "source": [
    "# Using the station id from the previous query, calcuate the lowest temp recorded\n",
    "# the highest temp recorded and the average temp from the most active station\n",
    "\n",
    "lo_hi = session.query(func.min(Measurement.tobs), func.max(Measurement.tobs), func.avg(Measurement.tobs)).\\\n",
    "    filter(Measurement.station == \"USC00519281\").all()\n",
    "lo_hi"
   ]
  },
  {
   "cell_type": "code",
   "execution_count": 93,
   "metadata": {},
   "outputs": [
    {
     "data": {
      "text/html": [
       "<div>\n",
       "<style scoped>\n",
       "    .dataframe tbody tr th:only-of-type {\n",
       "        vertical-align: middle;\n",
       "    }\n",
       "\n",
       "    .dataframe tbody tr th {\n",
       "        vertical-align: top;\n",
       "    }\n",
       "\n",
       "    .dataframe thead th {\n",
       "        text-align: right;\n",
       "    }\n",
       "</style>\n",
       "<table border=\"1\" class=\"dataframe\">\n",
       "  <thead>\n",
       "    <tr style=\"text-align: right;\">\n",
       "      <th></th>\n",
       "      <th>Temp</th>\n",
       "    </tr>\n",
       "  </thead>\n",
       "  <tbody>\n",
       "    <tr>\n",
       "      <th>0</th>\n",
       "      <td>77.0</td>\n",
       "    </tr>\n",
       "    <tr>\n",
       "      <th>1</th>\n",
       "      <td>80.0</td>\n",
       "    </tr>\n",
       "    <tr>\n",
       "      <th>2</th>\n",
       "      <td>80.0</td>\n",
       "    </tr>\n",
       "    <tr>\n",
       "      <th>3</th>\n",
       "      <td>75.0</td>\n",
       "    </tr>\n",
       "    <tr>\n",
       "      <th>4</th>\n",
       "      <td>73.0</td>\n",
       "    </tr>\n",
       "  </tbody>\n",
       "</table>\n",
       "</div>"
      ],
      "text/plain": [
       "   Temp\n",
       "0  77.0\n",
       "1  80.0\n",
       "2  80.0\n",
       "3  75.0\n",
       "4  73.0"
      ]
     },
     "execution_count": 93,
     "metadata": {},
     "output_type": "execute_result"
    }
   ],
   "source": [
    "# Query for last 12 months of temperature data for most active station\n",
    "# Plot the results\n",
    "\n",
    "temp_year = session.query(Measurement.tobs).\\\n",
    "    filter(Measurement.date > year_ago).filter(Measurement.station == \"USC00519281\").all();\n",
    "\n",
    "# Create dataframe with temperatures\n",
    "temp_year_df = pd.DataFrame(temp_year, columns = ['Temp'])\n",
    "temp_year_df.head()"
   ]
  },
  {
   "cell_type": "code",
   "execution_count": 105,
   "metadata": {},
   "outputs": [
    {
     "data": {
      "text/plain": [
       "Text(0.5, 1.0, 'Temperature Histogram')"
      ]
     },
     "execution_count": 105,
     "metadata": {},
     "output_type": "execute_result"
    },
    {
     "data": {
      "image/png": "[encoded data removed]",
      "text/plain": [
       "<Figure size 432x288 with 1 Axes>"
      ]
     },
     "metadata": {
      "needs_background": "light"
     },
     "output_type": "display_data"
    }
   ],
   "source": [
    "# Plot as histogram\n",
    "\n",
    "plt.hist(temp_year_df['Temp'], bins = 12)\n",
    "plt.ylabel('Frequency')\n",
    "plt.title('Temperature Histogram')"
   ]
  },
  {
   "cell_type": "code",
   "execution_count": null,
   "metadata": {},
   "outputs": [],
   "source": []
  }
 ],
 "metadata": {
  "kernelspec": {
   "display_name": "Python 3",
   "language": "python",
   "name": "python3"
  },
  "language_info": {
   "codemirror_mode": {
    "name": "ipython",
    "version": 3
   },
   "file_extension": ".py",
   "mimetype": "text/x-python",
   "name": "python",
   "nbconvert_exporter": "python",
   "pygments_lexer": "ipython3",
   "version": "3.6.8"
  }
 },
 "nbformat": 4,
 "nbformat_minor": 2
}
